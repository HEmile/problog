{
 "cells": [
  {
   "cell_type": "code",
   "execution_count": 2,
   "metadata": {},
   "outputs": [],
   "source": [
    "from problog.program import PrologString\n",
    "from problog.tasks.dcproblog.solver import InferenceSolver\n",
    "from problog.tasks.dcproblog.parser import DCParser\n",
    "from problog.logic import Term"
   ]
  },
  {
   "cell_type": "code",
   "execution_count": 3,
   "metadata": {},
   "outputs": [],
   "source": [
    "configuration = {\n",
    "    \"abe_name\":\"pyro\",\n",
    "    \"n_samples\":20000,\n",
    "    \"ttype\":\"float32\",\n",
    "    \"device\":\"cpu\",\n",
    "}"
   ]
  },
  {
   "cell_type": "code",
   "execution_count": 4,
   "metadata": {},
   "outputs": [],
   "source": [
    "str_program_1 = \"\"\"\n",
    "b~beta(1,1).\n",
    "B::coin_flip(N):- B is b.\n",
    "\n",
    "query_density(b).\n",
    "\"\"\""
   ]
  },
  {
   "cell_type": "code",
   "execution_count": 5,
   "metadata": {},
   "outputs": [],
   "source": [
    "str_program_2 = \"\"\"\n",
    "b~beta(1,1).\n",
    "B::coin_flip(N):- B is b.\n",
    "\n",
    "evidence(coin_flip(1), true).\n",
    "evidence(coin_flip(2), false).\n",
    "evidence(coin_flip(3), true).\n",
    "\n",
    "query_density(b).\n",
    "\"\"\""
   ]
  },
  {
   "cell_type": "code",
   "execution_count": 6,
   "metadata": {},
   "outputs": [],
   "source": [
    "solver = InferenceSolver(**configuration)\n",
    "program_1 = PrologString(str_program_1, parser=DCParser())\n",
    "program_2 = PrologString(str_program_2, parser=DCParser())"
   ]
  },
  {
   "cell_type": "code",
   "execution_count": 7,
   "metadata": {},
   "outputs": [],
   "source": [
    "probabilities_1 = solver.probability(program_1, **configuration)\n",
    "probabilities_2 = solver.probability(program_2, **configuration)"
   ]
  },
  {
   "cell_type": "code",
   "execution_count": 8,
   "metadata": {},
   "outputs": [],
   "source": [
    "b_term = Term(\"b\")\n",
    "mixture_b_prior = probabilities_1[\"dq\"][b_term]\n",
    "mixture_b_posterior = probabilities_2[\"dq\"][b_term]"
   ]
  },
  {
   "cell_type": "code",
   "execution_count": 9,
   "metadata": {},
   "outputs": [
    {
     "name": "stdout",
     "output_type": "stream",
     "text": [
      "Mixture(MixComp₀)\n",
      "Mixture(MixComp₀)\n"
     ]
    }
   ],
   "source": [
    "print(mixture_b_prior)\n",
    "print(mixture_b_posterior)"
   ]
  },
  {
   "cell_type": "code",
   "execution_count": 10,
   "metadata": {},
   "outputs": [],
   "source": [
    "b_prior, = mixture_b_prior.components()\n",
    "b_posterior, = mixture_b_posterior.components()"
   ]
  },
  {
   "cell_type": "code",
   "execution_count": 11,
   "metadata": {},
   "outputs": [
    {
     "name": "stdout",
     "output_type": "stream",
     "text": [
      "tensor([[0.6066, 0.4075, 0.1268,  ..., 0.8528, 0.3639, 0.9987]])\n",
      "tensor(1.)\n"
     ]
    }
   ],
   "source": [
    "print(b_posterior.samples)\n",
    "print(b_posterior.weights.mean())"
   ]
  },
  {
   "cell_type": "code",
   "execution_count": 11,
   "metadata": {},
   "outputs": [],
   "source": [
    "import matplotlib.pyplot as plt\n",
    "import numpy as np\n",
    "%matplotlib inline"
   ]
  },
  {
   "cell_type": "code",
   "execution_count": 12,
   "metadata": {},
   "outputs": [
    {
     "data": {
      "image/png": "[encoded data removed]",
      "text/plain": [
       "<Figure size 432x288 with 1 Axes>"
      ]
     },
     "metadata": {
      "needs_background": "light"
     },
     "output_type": "display_data"
    }
   ],
   "source": [
    "plt.hist(b_prior.samples, density=True, bins=30,rwidth=0.9, alpha = 0.6, label=\"prior\")\n",
    "\n",
    "plt.hist(b_posterior.samples, weights=b_posterior.weights, density=True, bins=30,rwidth=0.9, alpha=0.6, label=\"posterior\")  # `density=False` would make counts\n",
    "plt.legend(loc=\"upper left\");"
   ]
  },
  {
   "cell_type": "code",
   "execution_count": null,
   "metadata": {},
   "outputs": [],
   "source": []
  },
  {
   "cell_type": "code",
   "execution_count": null,
   "metadata": {},
   "outputs": [],
   "source": []
  }
 ],
 "metadata": {
  "kernelspec": {
   "display_name": "Python 3",
   "language": "python",
   "name": "python3"
  },
  "language_info": {
   "codemirror_mode": {
    "name": "ipython",
    "version": 3
   },
   "file_extension": ".py",
   "mimetype": "text/x-python",
   "name": "python",
   "nbconvert_exporter": "python",
   "pygments_lexer": "ipython3",
   "version": "3.6.9"
  },
  "toc": {
   "base_numbering": 1,
   "nav_menu": {},
   "number_sections": true,
   "sideBar": true,
   "skip_h1_title": false,
   "title_cell": "Table of Contents",
   "title_sidebar": "Contents",
   "toc_cell": false,
   "toc_position": {},
   "toc_section_display": true,
   "toc_window_display": false
  }
 },
 "nbformat": 4,
 "nbformat_minor": 2
}
