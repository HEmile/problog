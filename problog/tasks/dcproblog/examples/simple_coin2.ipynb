{
 "cells": [
  {
   "cell_type": "code",
   "execution_count": 1,
   "metadata": {},
   "outputs": [],
   "source": [
    "from problog.program import PrologString\n",
    "from problog.tasks.dcproblog.solver import InferenceSolver\n",
    "from problog.tasks.dcproblog.parser import DCParser\n",
    "from problog.logic import Term\n",
    "\n",
    "import torch"
   ]
  },
  {
   "cell_type": "code",
   "execution_count": 2,
   "metadata": {},
   "outputs": [],
   "source": [
    "configuration = {\n",
    "    \"abe_name\":\"pyro\",\n",
    "    \"n_samples\":20000,\n",
    "    \"ttype\":\"float32\",\n",
    "    \"device\":\"cpu\",\n",
    "}"
   ]
  },
  {
   "cell_type": "code",
   "execution_count": 3,
   "metadata": {},
   "outputs": [],
   "source": [
    "str_program_1 = \"\"\"\n",
    "0.2::a.\n",
    "b~beta(1,1):- a.\n",
    "b~beta(2,2):- \\+a.\n",
    "B::coin_flip(N):- B is b.\n",
    "\n",
    "query_density(b).\n",
    "\"\"\""
   ]
  },
  {
   "cell_type": "code",
   "execution_count": 4,
   "metadata": {},
   "outputs": [],
   "source": [
    "str_program_2 = \"\"\"\n",
    "0.2::a.\n",
    "b~beta(1,1):- a.\n",
    "b~beta(1,2):- \\+a.\n",
    "B::coin_flip(N):- B is b.\n",
    "\n",
    "evidence(coin_flip(1), true).\n",
    "evidence(coin_flip(2), false).\n",
    "evidence(coin_flip(3), true).\n",
    "\n",
    "query_density(b).\n",
    "\"\"\""
   ]
  },
  {
   "cell_type": "code",
   "execution_count": 5,
   "metadata": {},
   "outputs": [],
   "source": [
    "solver = InferenceSolver(**configuration)\n",
    "program_1 = PrologString(str_program_1, parser=DCParser())\n",
    "program_2 = PrologString(str_program_2, parser=DCParser())"
   ]
  },
  {
   "cell_type": "code",
   "execution_count": 6,
   "metadata": {},
   "outputs": [],
   "source": [
    "probabilities_1 = solver.probability(program_1, **configuration)\n",
    "probabilities_2 = solver.probability(program_2, **configuration)"
   ]
  },
  {
   "cell_type": "code",
   "execution_count": 7,
   "metadata": {},
   "outputs": [],
   "source": [
    "b_term = Term(\"b\")\n",
    "mixture_b_prior = probabilities_1[\"dq\"][b_term]\n",
    "mixture_b_posterior = probabilities_2[\"dq\"][b_term]"
   ]
  },
  {
   "cell_type": "code",
   "execution_count": 8,
   "metadata": {},
   "outputs": [
    {
     "name": "stdout",
     "output_type": "stream",
     "text": [
      "Mixture(MixComp₀,MixComp₁)\n",
      "Mixture(MixComp₀,MixComp₁)\n"
     ]
    }
   ],
   "source": [
    "print(mixture_b_prior)\n",
    "print(mixture_b_posterior)"
   ]
  },
  {
   "cell_type": "code",
   "execution_count": 9,
   "metadata": {},
   "outputs": [],
   "source": [
    "b_prior1, b_prior2, = mixture_b_prior.components()\n",
    "b_posterior1, b_posterior2 = mixture_b_posterior.components()"
   ]
  },
  {
   "cell_type": "code",
   "execution_count": 15,
   "metadata": {},
   "outputs": [
    {
     "name": "stdout",
     "output_type": "stream",
     "text": [
      "tensor([[0.4326, 0.3350, 0.4277,  ..., 0.9931, 0.1546, 0.9807]])\n",
      "tensor([0.2189, 0.1538, 0.2158,  ..., 0.0141, 0.0416, 0.0382])\n",
      "tensor([0.6976, 0.4565, 0.2203,  ..., 0.4760, 0.4230, 0.5081])\n"
     ]
    },
    {
     "data": {
      "text/plain": [
       "array([0.2, 0.2, 0.2, ..., 0.2, 0.2, 0.2], dtype=float32)"
      ]
     },
     "execution_count": 15,
     "metadata": {},
     "output_type": "execute_result"
    }
   ],
   "source": [
    "print(b_posterior1.samples)\n",
    "print(b_posterior1.weights)\n",
    "print(b_prior1.samples.flatten())\n",
    "torch.full(b_prior1.samples.shape, b_prior1.weights).flatten().numpy()"
   ]
  },
  {
   "cell_type": "code",
   "execution_count": 28,
   "metadata": {},
   "outputs": [],
   "source": [
    "import matplotlib.pyplot as plt\n",
    "import numpy as np\n",
    "%matplotlib inline\n",
    "prop_cycle = plt.rcParams['axes.prop_cycle']\n",
    "colors = prop_cycle.by_key()['color']"
   ]
  },
  {
   "cell_type": "code",
   "execution_count": 41,
   "metadata": {},
   "outputs": [
    {
     "data": {
      "image/png": "[encoded data removed]",
      "text/plain": [
       "<Figure size 432x288 with 1 Axes>"
      ]
     },
     "metadata": {
      "needs_background": "light"
     },
     "output_type": "display_data"
    }
   ],
   "source": [
    "plt.hist(\n",
    "    (b_prior1.samples.flatten().numpy(),b_prior2.samples.flatten().numpy()),\n",
    "    weights = (torch.full(b_prior1.samples.shape, b_prior1.weights).flatten().numpy(), torch.full(b_prior2.samples.shape, b_prior2.weights).flatten().numpy()),\n",
    "    density = True,\n",
    "    bins = 30,\n",
    "    rwidth = 0.9,\n",
    "    alpha = 0.5,\n",
    "    label = [\"a prior\",\"\\+a prior\"],\n",
    "    color = colors[2:4],\n",
    "    stacked=True,\n",
    ")\n",
    "\n",
    "plt.legend(loc=\"upper left\")\n",
    "plt.savefig('prior.pdf',bbox_inches='tight', format='pdf');"
   ]
  },
  {
   "cell_type": "code",
   "execution_count": 44,
   "metadata": {},
   "outputs": [
    {
     "data": {
      "image/png": "[encoded data removed]",
      "text/plain": [
       "<Figure size 432x288 with 1 Axes>"
      ]
     },
     "metadata": {
      "needs_background": "light"
     },
     "output_type": "display_data"
    }
   ],
   "source": [
    "plt.hist(\n",
    "    (b_posterior1.samples.flatten().numpy(),b_posterior2.samples.flatten().numpy()),\n",
    "    weights = (b_posterior1.weights.flatten().numpy(), b_posterior2.weights.flatten().numpy()),\n",
    "    density=True,\n",
    "    bins=30,\n",
    "    rwidth=0.9,\n",
    "    alpha = 0.5,\n",
    "    label=[\"a posterior\",\"\\+a posterior\"],\n",
    "    color = colors[2:4],\n",
    "    stacked=True,\n",
    ")\n",
    "\n",
    "plt.legend(loc=\"upper left\");\n",
    "plt.savefig('posterior.pdf',bbox_inches='tight', format='pdf');"
   ]
  },
  {
   "cell_type": "code",
   "execution_count": null,
   "metadata": {},
   "outputs": [],
   "source": []
  },
  {
   "cell_type": "code",
   "execution_count": null,
   "metadata": {},
   "outputs": [],
   "source": []
  }
 ],
 "metadata": {
  "kernelspec": {
   "display_name": "Python 3",
   "language": "python",
   "name": "python3"
  },
  "language_info": {
   "codemirror_mode": {
    "name": "ipython",
    "version": 3
   },
   "file_extension": ".py",
   "mimetype": "text/x-python",
   "name": "python",
   "nbconvert_exporter": "python",
   "pygments_lexer": "ipython3",
   "version": "3.6.9"
  },
  "toc": {
   "base_numbering": 1,
   "nav_menu": {},
   "number_sections": true,
   "sideBar": true,
   "skip_h1_title": false,
   "title_cell": "Table of Contents",
   "title_sidebar": "Contents",
   "toc_cell": false,
   "toc_position": {},
   "toc_section_display": true,
   "toc_window_display": false
  }
 },
 "nbformat": 4,
 "nbformat_minor": 2
}
